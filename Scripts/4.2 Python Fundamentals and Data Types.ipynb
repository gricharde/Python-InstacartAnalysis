{
 "cells": [
  {
   "cell_type": "code",
   "execution_count": 2,
   "id": "b5c4e40a-8c61-4d48-bf37-a02c3a9907f7",
   "metadata": {},
   "outputs": [],
   "source": [
    "#Importing Libraries"
   ]
  },
  {
   "cell_type": "code",
   "execution_count": 3,
   "id": "f2491ece-126d-47d2-b09d-bc93d03bd865",
   "metadata": {},
   "outputs": [],
   "source": [
    "import pandas as pd\n",
    "import numpy as np\n",
    "import os"
   ]
  },
  {
   "cell_type": "code",
   "execution_count": 4,
   "id": "3282df85-8e13-4c82-8b5b-1062a72e24e8",
   "metadata": {},
   "outputs": [],
   "source": [
    "#Working with Python Data Types"
   ]
  },
  {
   "cell_type": "code",
   "execution_count": 5,
   "id": "b06c66f2-aee2-4e70-9653-86fb3b692f12",
   "metadata": {},
   "outputs": [
    {
     "data": {
      "text/plain": [
       "100.0"
      ]
     },
     "execution_count": 5,
     "metadata": {},
     "output_type": "execute_result"
    }
   ],
   "source": [
    "90.0 + 10"
   ]
  },
  {
   "cell_type": "code",
   "execution_count": 6,
   "id": "39d6fc71-e983-4484-be35-99bf80c1402b",
   "metadata": {},
   "outputs": [
    {
     "data": {
      "text/plain": [
       "100.0"
      ]
     },
     "execution_count": 6,
     "metadata": {},
     "output_type": "execute_result"
    }
   ],
   "source": [
    "110.0 - 10"
   ]
  },
  {
   "cell_type": "code",
   "execution_count": 7,
   "id": "5bb60a48-974b-479a-ab53-ba167811ceed",
   "metadata": {},
   "outputs": [
    {
     "data": {
      "text/plain": [
       "100.0"
      ]
     },
     "execution_count": 7,
     "metadata": {},
     "output_type": "execute_result"
    }
   ],
   "source": [
    "93.0 + 7"
   ]
  },
  {
   "cell_type": "code",
   "execution_count": 8,
   "id": "db0cb275-33ae-40a0-9c0a-86b8106b6a3e",
   "metadata": {},
   "outputs": [
    {
     "data": {
      "text/plain": [
       "2.0"
      ]
     },
     "execution_count": 8,
     "metadata": {},
     "output_type": "execute_result"
    }
   ],
   "source": [
    "4.0/2"
   ]
  },
  {
   "cell_type": "code",
   "execution_count": 9,
   "id": "1f0e12c8-b4bf-40a3-8f74-b4f80791dd0a",
   "metadata": {},
   "outputs": [
    {
     "data": {
      "text/plain": [
       "1.0"
      ]
     },
     "execution_count": 9,
     "metadata": {},
     "output_type": "execute_result"
    }
   ],
   "source": [
    "4.0/4"
   ]
  },
  {
   "cell_type": "code",
   "execution_count": 10,
   "id": "b41ee44e-214b-4a08-9791-52f0efa268d6",
   "metadata": {},
   "outputs": [
    {
     "data": {
      "text/plain": [
       "'football'"
      ]
     },
     "execution_count": 10,
     "metadata": {},
     "output_type": "execute_result"
    }
   ],
   "source": [
    "a = 'foot'\n",
    "b = 'ball'\n",
    "\n",
    "c = a + b\n",
    "c"
   ]
  },
  {
   "cell_type": "code",
   "execution_count": 12,
   "id": "799312f6-942b-4e9e-83cf-500b9e078931",
   "metadata": {},
   "outputs": [
    {
     "data": {
      "text/plain": [
       "'My name is Gavin, nice to meet you.'"
      ]
     },
     "execution_count": 12,
     "metadata": {},
     "output_type": "execute_result"
    }
   ],
   "source": [
    "d = 'My name is '\n",
    "e = 'Gavin, nice to meet you.'\n",
    "\n",
    "f = d + e\n",
    "f"
   ]
  },
  {
   "cell_type": "code",
   "execution_count": null,
   "id": "03f0c158-885f-466d-9bef-13fa15f42dc4",
   "metadata": {},
   "outputs": [],
   "source": []
  }
 ],
 "metadata": {
  "kernelspec": {
   "display_name": "Python 3 (ipykernel)",
   "language": "python",
   "name": "python3"
  },
  "language_info": {
   "codemirror_mode": {
    "name": "ipython",
    "version": 3
   },
   "file_extension": ".py",
   "mimetype": "text/x-python",
   "name": "python",
   "nbconvert_exporter": "python",
   "pygments_lexer": "ipython3",
   "version": "3.11.7"
  }
 },
 "nbformat": 4,
 "nbformat_minor": 5
}
